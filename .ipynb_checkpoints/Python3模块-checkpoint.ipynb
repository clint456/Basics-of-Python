{
 "cells": [
  {
   "cell_type": "code",
   "execution_count": 1,
   "id": "b793cbc6-1d4d-464a-953b-7b430974253d",
   "metadata": {},
   "outputs": [
    {
     "data": {
      "text/plain": [
       "['D:\\\\work\\\\课程相关\\\\Python复习',\n",
       " 'd:\\\\program files\\\\python38\\\\python38.zip',\n",
       " 'd:\\\\program files\\\\python38\\\\DLLs',\n",
       " 'd:\\\\program files\\\\python38\\\\lib',\n",
       " 'd:\\\\program files\\\\python38',\n",
       " '',\n",
       " 'd:\\\\program files\\\\python38\\\\lib\\\\site-packages',\n",
       " 'd:\\\\program files\\\\python38\\\\lib\\\\site-packages\\\\win32',\n",
       " 'd:\\\\program files\\\\python38\\\\lib\\\\site-packages\\\\win32\\\\lib',\n",
       " 'd:\\\\program files\\\\python38\\\\lib\\\\site-packages\\\\Pythonwin']"
      ]
     },
     "execution_count": 1,
     "metadata": {},
     "output_type": "execute_result"
    }
   ],
   "source": [
    "import sys\n",
    "sys.path"
   ]
  },
  {
   "cell_type": "code",
   "execution_count": 2,
   "id": "2a30014e-d66e-476c-a427-65a9219240aa",
   "metadata": {},
   "outputs": [
    {
     "name": "stdout",
     "output_type": "stream",
     "text": [
      "程序自身在运行\n"
     ]
    }
   ],
   "source": [
    "#!/usr/bin/python3\n",
    "# Filename: using_name.py\n",
    "\n",
    "if __name__ == '__main__':\n",
    "    print(\"程序自身在运行\")\n",
    "else:\n",
    "    print('我来自另一个模块')"
   ]
  },
  {
   "cell_type": "code",
   "execution_count": null,
   "id": "aa3fda84-bf84-4ef9-94fc-cf28493f00fd",
   "metadata": {},
   "outputs": [],
   "source": []
  }
 ],
 "metadata": {
  "kernelspec": {
   "display_name": "Python 3 (ipykernel)",
   "language": "python",
   "name": "python3"
  },
  "language_info": {
   "codemirror_mode": {
    "name": "ipython",
    "version": 3
   },
   "file_extension": ".py",
   "mimetype": "text/x-python",
   "name": "python",
   "nbconvert_exporter": "python",
   "pygments_lexer": "ipython3",
   "version": "3.8.5"
  }
 },
 "nbformat": 4,
 "nbformat_minor": 5
}
