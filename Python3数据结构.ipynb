{
 "cells": [
  {
   "cell_type": "markdown",
   "id": "52fdfe5a-88d0-4b43-ac4d-48a1d82e5c13",
   "metadata": {},
   "source": [
    "## 列表"
   ]
  },
  {
   "cell_type": "code",
   "execution_count": 11,
   "id": "dbce968e-2320-4cae-8031-cf9c643ab270",
   "metadata": {},
   "outputs": [
    {
     "name": "stdout",
     "output_type": "stream",
     "text": [
      "2 1 0\n"
     ]
    },
    {
     "data": {
      "text/plain": [
       "[-1, 1, 3, 12.213, 21, 66, 123, 242, 375, 1234, 4353.5]"
      ]
     },
     "execution_count": 11,
     "metadata": {},
     "output_type": "execute_result"
    }
   ],
   "source": [
    "a = [12.213,1234,66,375,21,1,1,3,242,123,4353.5]\n",
    "print(a.count(1),a.count(3),a.count(\"x\"))  #没有值时,以0填充\n",
    "a.insert(2,-1)   #插入\n",
    "a.remove(1) #按顺序删除一个1\n",
    "a.reverse()  #倒叙排列列表中的元素\n",
    "a.sort()  #对列表中的元素排序(默认顺序)\n",
    "a"
   ]
  },
  {
   "cell_type": "markdown",
   "id": "35f5e9e2-0de3-4188-99bf-9608e01e5303",
   "metadata": {
    "tags": []
   },
   "source": [
    "#### 把列表当作堆栈使用 "
   ]
  },
  {
   "cell_type": "markdown",
   "id": "6e53feb5-855e-484b-8500-cecf5f4088d6",
   "metadata": {},
   "source": [
    "* 原则:先进后出"
   ]
  },
  {
   "cell_type": "code",
   "execution_count": 22,
   "id": "8e1d354a-2320-4bde-9b63-590858af4368",
   "metadata": {},
   "outputs": [
    {
     "data": {
      "text/plain": [
       "[3, 4]"
      ]
     },
     "execution_count": 22,
     "metadata": {},
     "output_type": "execute_result"
    }
   ],
   "source": [
    "stack =[3,4,5]\n",
    "stack.append(6)\n",
    "stack.append(7)\n",
    "stack\n",
    "stack.pop() #释放最后一个元素(不指定索引),并返回\n",
    "stack\n",
    "stack.pop()\n",
    "stack\n",
    "stack.pop()\n",
    "stack"
   ]
  },
  {
   "cell_type": "markdown",
   "id": "a625fd1b-3fed-4804-83b7-86364593e640",
   "metadata": {
    "jp-MarkdownHeadingCollapsed": true,
    "tags": []
   },
   "source": [
    "#### 把列表当作队列使用\n"
   ]
  },
  {
   "cell_type": "code",
   "execution_count": 24,
   "id": "84ecd06f-37f6-43fa-bf02-97a395df4c1f",
   "metadata": {},
   "outputs": [
    {
     "data": {
      "text/plain": [
       "deque(['jon', 'MIke', 'terry', 'soony'])"
      ]
     },
     "execution_count": 24,
     "metadata": {},
     "output_type": "execute_result"
    }
   ],
   "source": [
    "from collections import deque\n",
    "queue = deque([\"Eric\",\"jon\",\"MIke\"])\n",
    "queue.append(\"terry\")\n",
    "queue.append(\"soony\")\n",
    "queue.popleft()  # 释放队列里第一个元素,并返回\n",
    "queue"
   ]
  },
  {
   "cell_type": "markdown",
   "id": "ad6617ae-305c-48e5-b3da-e29d5de65256",
   "metadata": {
    "jp-MarkdownHeadingCollapsed": true,
    "tags": []
   },
   "source": [
    "#### 列表推导式"
   ]
  },
  {
   "cell_type": "code",
   "execution_count": 25,
   "id": "4b49249d-8c21-44e1-8822-a18a7f99aa77",
   "metadata": {},
   "outputs": [
    {
     "data": {
      "text/plain": [
       "[6, 9, 12]"
      ]
     },
     "execution_count": 25,
     "metadata": {},
     "output_type": "execute_result"
    }
   ],
   "source": [
    "vec = [2,3,4]\n",
    "[3*x for x in vec]"
   ]
  },
  {
   "cell_type": "code",
   "execution_count": 26,
   "id": "4db9bf2e-1389-456c-9f27-277a3f209d7b",
   "metadata": {},
   "outputs": [
    {
     "data": {
      "text/plain": [
       "[[2, 4], [3, 9], [4, 16]]"
      ]
     },
     "execution_count": 26,
     "metadata": {},
     "output_type": "execute_result"
    }
   ],
   "source": [
    "[[x,x**2] for x in vec]"
   ]
  },
  {
   "cell_type": "code",
   "execution_count": 30,
   "id": "16bae46d-340f-4656-9721-17a4ccd4da7b",
   "metadata": {},
   "outputs": [
    {
     "data": {
      "text/plain": [
       "['banana', 'logagfa', 'fafaa']"
      ]
     },
     "execution_count": 30,
     "metadata": {},
     "output_type": "execute_result"
    }
   ],
   "source": [
    "ff = [ 'banana', ' logagfa  ','fafaa']\n",
    "[weapon.strip() for weapon in ff]   \n",
    "#该strip()方法删除任何前导（开头的空格）\n",
    "#和尾随（结尾的空格）字符（空格是要删除的默认前导字符）"
   ]
  },
  {
   "cell_type": "code",
   "execution_count": 33,
   "id": "2f572e60-e864-4ecf-bed4-52a2d2d4eaca",
   "metadata": {},
   "outputs": [
    {
     "name": "stdout",
     "output_type": "stream",
     "text": [
      "[12]\n"
     ]
    },
    {
     "data": {
      "text/plain": [
       "[]"
      ]
     },
     "execution_count": 33,
     "metadata": {},
     "output_type": "execute_result"
    }
   ],
   "source": [
    "## 使用if作为过滤器\n",
    "print([3*x for x in vec if x>3])\n",
    "[3*x for x in vec if x>16]"
   ]
  },
  {
   "cell_type": "code",
   "execution_count": 36,
   "id": "889be7a8-728a-45f4-a333-f0c035866c3c",
   "metadata": {},
   "outputs": [
    {
     "data": {
      "text/plain": [
       "[10, 12, 14, 15, 18, 21, 20, 24, 28]"
      ]
     },
     "execution_count": 36,
     "metadata": {},
     "output_type": "execute_result"
    }
   ],
   "source": [
    "vec1 = [2,3,4]\n",
    "vec2 = [5,6,7]\n",
    "vec3 = [8,9,10]\n",
    "[x*y for x in vec1 for y in vec2] "
   ]
  },
  {
   "cell_type": "code",
   "execution_count": 37,
   "id": "c0759d59-7a1e-47c8-ba6d-8316b18653ae",
   "metadata": {},
   "outputs": [
    {
     "data": {
      "text/plain": [
       "['3.1', '3.14', '3.142', '3.1416', '3.14159']"
      ]
     },
     "execution_count": 37,
     "metadata": {},
     "output_type": "execute_result"
    }
   ],
   "source": [
    "[str(round(355/113, i)) for i in range(1, 6)]\n",
    "['3.1', '3.14', '3.142', '3.1416', '3.14159']\n"
   ]
  },
  {
   "cell_type": "markdown",
   "id": "860e5964-c204-4d0a-b92b-522667436582",
   "metadata": {
    "jp-MarkdownHeadingCollapsed": true,
    "tags": []
   },
   "source": [
    "#### 嵌套列表解析"
   ]
  },
  {
   "cell_type": "code",
   "execution_count": 39,
   "id": "418f074a-add2-4e79-83e6-7c2eac34293d",
   "metadata": {},
   "outputs": [],
   "source": [
    "matrix = [\n",
    "    [1,2,3],\n",
    "    [4,5,6],\n",
    "    [7,8,9,10],\n",
    "]"
   ]
  },
  {
   "cell_type": "code",
   "execution_count": 43,
   "id": "65ca0273-2d1a-46b3-aac0-0c1976802951",
   "metadata": {},
   "outputs": [
    {
     "data": {
      "text/plain": [
       "[[1, 4, 7], [2, 5, 8], [3, 6, 9]]"
      ]
     },
     "execution_count": 43,
     "metadata": {},
     "output_type": "execute_result"
    }
   ],
   "source": [
    "[[row[i] for row in matrix] for i in range(3)]\n",
    "#将列表转化为3*3"
   ]
  },
  {
   "cell_type": "code",
   "execution_count": 45,
   "id": "f2c92ca0-9d6e-4dde-a4e7-72dfccc33cb4",
   "metadata": {},
   "outputs": [
    {
     "data": {
      "text/plain": [
       "[[1, 4, 7], [2, 5, 8], [3, 6, 9]]"
      ]
     },
     "execution_count": 45,
     "metadata": {},
     "output_type": "execute_result"
    }
   ],
   "source": [
    "#其实有更好的办法\n",
    "tansposed = []\n",
    "for i in range(3):\n",
    "    tansposed_row = []\n",
    "    for row in matrix:\n",
    "        tansposed_row.append(row[i])\n",
    "    tansposed.append(tansposed_row)\n",
    "tansposed"
   ]
  },
  {
   "cell_type": "markdown",
   "id": "4a2d63f1-e972-4b47-9f8e-0b316c3ade6e",
   "metadata": {
    "jp-MarkdownHeadingCollapsed": true,
    "tags": []
   },
   "source": [
    "#### del语句"
   ]
  },
  {
   "cell_type": "code",
   "execution_count": 55,
   "id": "ae80371d-03a7-4a4b-b4be-3cef76868d3a",
   "metadata": {},
   "outputs": [
    {
     "data": {
      "text/plain": [
       "[1, 66.25, 333, 333, 1234.5]"
      ]
     },
     "execution_count": 55,
     "metadata": {},
     "output_type": "execute_result"
    }
   ],
   "source": [
    "a = [-1, 1, 66.25, 333, 333, 1234.5]\n",
    "del a[0]\n",
    "a"
   ]
  },
  {
   "cell_type": "code",
   "execution_count": 56,
   "id": "2dbb8e48-7909-4c5d-944a-80a0589ebaea",
   "metadata": {},
   "outputs": [],
   "source": [
    "del a[2:4]"
   ]
  },
  {
   "cell_type": "code",
   "execution_count": 57,
   "id": "305355ab-3e0e-44f8-88ae-5ab9cf4e15f8",
   "metadata": {},
   "outputs": [],
   "source": [
    "del a[:]"
   ]
  },
  {
   "cell_type": "code",
   "execution_count": 59,
   "id": "d0c8f99c-bab9-4eb0-9e89-ee190e3f4a71",
   "metadata": {},
   "outputs": [],
   "source": [
    "del a"
   ]
  },
  {
   "cell_type": "markdown",
   "id": "6a08456d-ddf3-4c8c-a0bc-b123405b3fdc",
   "metadata": {
    "tags": []
   },
   "source": [
    "#### 元组与序列\n",
    "在输入时可能有或没有括号， 不过括号通常是必须的"
   ]
  },
  {
   "cell_type": "code",
   "execution_count": 60,
   "id": "31275de4-e50d-427d-a44e-49cf0478d988",
   "metadata": {},
   "outputs": [
    {
     "data": {
      "text/plain": [
       "12345"
      ]
     },
     "execution_count": 60,
     "metadata": {},
     "output_type": "execute_result"
    }
   ],
   "source": [
    "t = 12345, 54321, 'hello!'\n",
    "t[0]"
   ]
  },
  {
   "cell_type": "code",
   "execution_count": 61,
   "id": "0db014f9-6d70-4cc5-967c-aa582c800f40",
   "metadata": {},
   "outputs": [
    {
     "data": {
      "text/plain": [
       "(12345, 54321, 'hello!')"
      ]
     },
     "execution_count": 61,
     "metadata": {},
     "output_type": "execute_result"
    }
   ],
   "source": [
    "t"
   ]
  },
  {
   "cell_type": "code",
   "execution_count": 63,
   "id": "f6d6bed1-8ec6-4789-a766-07f75194858d",
   "metadata": {},
   "outputs": [
    {
     "data": {
      "text/plain": [
       "((12345, 54321, 'hello!'), (1, 23, 4, 5))"
      ]
     },
     "execution_count": 63,
     "metadata": {},
     "output_type": "execute_result"
    }
   ],
   "source": [
    "u = t, (1,23,4,5)\n",
    "u"
   ]
  },
  {
   "cell_type": "markdown",
   "id": "444d6114-e75d-4b74-9103-7a3687116eb6",
   "metadata": {
    "tags": []
   },
   "source": [
    "#### 集合\n",
    "集合是一个**无序不重复** 的集<br>\n",
    "基本功能: **关系测试和消除重复元素**"
   ]
  },
  {
   "cell_type": "code",
   "execution_count": 64,
   "id": "87ab814e-7223-4605-9b4a-07fa49d752f2",
   "metadata": {},
   "outputs": [
    {
     "name": "stdout",
     "output_type": "stream",
     "text": [
      "{'orange', 'apple', 'banana', 'pear'}\n"
     ]
    }
   ],
   "source": [
    "basket = {'apple', 'orange', 'apple', 'pear', 'orange', 'banana'}\n",
    "print(basket)   \n",
    "#默认删除重复成员\n"
   ]
  },
  {
   "cell_type": "code",
   "execution_count": 65,
   "id": "e07353e8-36a7-4f09-acf7-633306c0a882",
   "metadata": {},
   "outputs": [
    {
     "data": {
      "text/plain": [
       "True"
      ]
     },
     "execution_count": 65,
     "metadata": {},
     "output_type": "execute_result"
    }
   ],
   "source": [
    "#检测成员\n",
    "\"orange\" in basket"
   ]
  },
  {
   "cell_type": "code",
   "execution_count": 68,
   "id": "916a2ced-d39a-44f6-a910-f5568f78efc2",
   "metadata": {},
   "outputs": [
    {
     "name": "stdout",
     "output_type": "stream",
     "text": [
      "{'r', 'd', 'b', 'c', 'a'}\n"
     ]
    },
    {
     "data": {
      "text/plain": [
       "{'a', 'c', 'l', 'm', 'z'}"
      ]
     },
     "execution_count": 68,
     "metadata": {},
     "output_type": "execute_result"
    }
   ],
   "source": [
    "a = set('abracadabra')\n",
    "b = set('alacazam')"
   ]
  },
  {
   "cell_type": "code",
   "execution_count": 69,
   "id": "a2a9897a-82bd-4e86-a1b6-63f73f7e232c",
   "metadata": {},
   "outputs": [
    {
     "data": {
      "text/plain": [
       "{'a', 'b', 'c', 'd', 'r'}"
      ]
     },
     "execution_count": 69,
     "metadata": {},
     "output_type": "execute_result"
    }
   ],
   "source": [
    "a"
   ]
  },
  {
   "cell_type": "code",
   "execution_count": 70,
   "id": "34f81102-79b9-452e-87e7-268de028b391",
   "metadata": {},
   "outputs": [
    {
     "data": {
      "text/plain": [
       "{'a', 'c', 'l', 'm', 'z'}"
      ]
     },
     "execution_count": 70,
     "metadata": {},
     "output_type": "execute_result"
    }
   ],
   "source": [
    "b"
   ]
  },
  {
   "cell_type": "code",
   "execution_count": 75,
   "id": "1e5b1124-11ad-4ddc-a775-dd0f0cd11c58",
   "metadata": {},
   "outputs": [
    {
     "data": {
      "text/plain": [
       "{'b', 'd', 'r'}"
      ]
     },
     "execution_count": 75,
     "metadata": {},
     "output_type": "execute_result"
    }
   ],
   "source": [
    "a-b"
   ]
  },
  {
   "cell_type": "code",
   "execution_count": 73,
   "id": "01ee0b49-6bd5-42ce-b7be-d9adb0f380a6",
   "metadata": {},
   "outputs": [
    {
     "data": {
      "text/plain": [
       "{'a', 'b', 'c', 'd', 'l', 'm', 'r', 'z'}"
      ]
     },
     "execution_count": 73,
     "metadata": {},
     "output_type": "execute_result"
    }
   ],
   "source": [
    "a|b"
   ]
  },
  {
   "cell_type": "code",
   "execution_count": 71,
   "id": "52af03be-44d2-4497-8cc0-1856676e8f51",
   "metadata": {},
   "outputs": [
    {
     "data": {
      "text/plain": [
       "{'a', 'c'}"
      ]
     },
     "execution_count": 71,
     "metadata": {},
     "output_type": "execute_result"
    }
   ],
   "source": [
    "a&b  "
   ]
  },
  {
   "cell_type": "code",
   "execution_count": 74,
   "id": "14a7c1a7-d275-400b-b3a2-9729e6fd6790",
   "metadata": {},
   "outputs": [
    {
     "data": {
      "text/plain": [
       "{'b', 'd', 'l', 'm', 'r', 'z'}"
      ]
     },
     "execution_count": 74,
     "metadata": {},
     "output_type": "execute_result"
    }
   ],
   "source": [
    "a^b  #在a或b中,但不同时在a和b中"
   ]
  },
  {
   "cell_type": "code",
   "execution_count": 79,
   "id": "2445e0b1-a8a8-4d04-9474-253d702b9bf5",
   "metadata": {},
   "outputs": [],
   "source": [
    " a = {x for x in 'abracadabra' if x not in 'abc'}\n",
    "#集合也支持推到式"
   ]
  },
  {
   "cell_type": "code",
   "execution_count": 78,
   "id": "14dc7ce2-f5d4-45a1-a23e-d055955de9ef",
   "metadata": {},
   "outputs": [
    {
     "data": {
      "text/plain": [
       "{'d', 'r'}"
      ]
     },
     "execution_count": 78,
     "metadata": {},
     "output_type": "execute_result"
    }
   ],
   "source": [
    "a\n"
   ]
  },
  {
   "cell_type": "markdown",
   "id": "0dd7498f-e7b9-46e6-a1fb-60a7a8b0b060",
   "metadata": {
    "tags": []
   },
   "source": [
    "#### 字典"
   ]
  },
  {
   "cell_type": "code",
   "execution_count": 85,
   "id": "3d78525a-c7e5-416c-b0c9-23f118072161",
   "metadata": {},
   "outputs": [],
   "source": [
    "tel = {'jack': 4098, 'sape': 4139}"
   ]
  },
  {
   "cell_type": "code",
   "execution_count": 86,
   "id": "23f5a9a0-8ad0-45d7-85e5-e80d3417b92a",
   "metadata": {},
   "outputs": [
    {
     "data": {
      "text/plain": [
       "{'sape': 4139}"
      ]
     },
     "execution_count": 86,
     "metadata": {},
     "output_type": "execute_result"
    }
   ],
   "source": [
    "del tel['jack']\n",
    "tel"
   ]
  },
  {
   "cell_type": "code",
   "execution_count": 87,
   "id": "d940b822-3f99-43e8-ae63-3e6a99244adb",
   "metadata": {},
   "outputs": [
    {
     "data": {
      "text/plain": [
       "{'sape': 4139, 'irv': 4127}"
      ]
     },
     "execution_count": 87,
     "metadata": {},
     "output_type": "execute_result"
    }
   ],
   "source": [
    "tel['irv'] = 4127\n",
    "tel"
   ]
  },
  {
   "cell_type": "code",
   "execution_count": 89,
   "id": "156866e0-84d8-43bd-9868-588c23e90fc5",
   "metadata": {},
   "outputs": [
    {
     "data": {
      "text/plain": [
       "['sape', 'irv']"
      ]
     },
     "execution_count": 89,
     "metadata": {},
     "output_type": "execute_result"
    }
   ],
   "source": [
    "list(tel.keys())  \n",
    "#类型转化"
   ]
  },
  {
   "cell_type": "code",
   "execution_count": 90,
   "id": "df59095f-2211-4a9c-af1c-f96a5c9113ac",
   "metadata": {},
   "outputs": [
    {
     "data": {
      "text/plain": [
       "False"
      ]
     },
     "execution_count": 90,
     "metadata": {},
     "output_type": "execute_result"
    }
   ],
   "source": [
    "'guido' in tel"
   ]
  },
  {
   "cell_type": "markdown",
   "id": "7ec8f012-be59-4c6c-b85e-3793d042ef7c",
   "metadata": {
    "tags": []
   },
   "source": [
    "#### 遍历技巧\n",
    "在字典中遍历时，关键字和对应的值可以使用 items() 方法**同时**解读出来"
   ]
  },
  {
   "cell_type": "code",
   "execution_count": 91,
   "id": "a5354cc7-3723-47e7-84e3-96dd09f0330d",
   "metadata": {},
   "outputs": [],
   "source": [
    " knights = {'gallahad': 'the pure', 'robin': 'the brave'}"
   ]
  },
  {
   "cell_type": "code",
   "execution_count": 92,
   "id": "5a2aa1fa-c060-4812-9270-5fe1fd7e5eae",
   "metadata": {},
   "outputs": [
    {
     "name": "stdout",
     "output_type": "stream",
     "text": [
      "gallahad the pure\n",
      "robin the brave\n"
     ]
    }
   ],
   "source": [
    "for k,v in knights.items():\n",
    "    print(k,v)"
   ]
  },
  {
   "cell_type": "code",
   "execution_count": 95,
   "id": "dcdcb1c0-3df9-4226-b2ff-05a5f5d46cd9",
   "metadata": {},
   "outputs": [
    {
     "name": "stdout",
     "output_type": "stream",
     "text": [
      "0 tcic\n",
      "1 tac\n",
      "2 toe\n"
     ]
    }
   ],
   "source": [
    "for i,v in enumerate(['tcic','tac','toe']):\n",
    "    print(i,v)\n",
    "#索引位置和对应值可以使用 enumerate() 函数同时得到："
   ]
  },
  {
   "cell_type": "code",
   "execution_count": 98,
   "id": "808b4f73-f129-463c-86cc-20a0e7cf06aa",
   "metadata": {},
   "outputs": [
    {
     "name": "stdout",
     "output_type": "stream",
     "text": [
      "what is you name?  It is lancelot.\n",
      "what is you quest?  It is the holy grail.\n",
      "what is you favorite color?  It is blue.\n"
     ]
    }
   ],
   "source": [
    "questions = ['name', 'quest', 'favorite color']\n",
    "answers = ['lancelot', 'the holy grail', 'blue']\n",
    "for q,a in zip(questions,answers):\n",
    "    print('what is you {0}?  It is {1}.'.format(q,a))\n",
    "    \n",
    "#同时遍历两个或更多的序列，可以使用 zip() 组合："
   ]
  },
  {
   "cell_type": "markdown",
   "id": "ac653700-03dd-49db-aff1-cbb3212b3062",
   "metadata": {
    "toc-hr-collapsed": true
   },
   "source": [
    "##### 反向遍历 使用 **reverserd**函数"
   ]
  },
  {
   "cell_type": "code",
   "execution_count": 104,
   "id": "2249f4fb-e301-40fb-aa60-94e96abc0438",
   "metadata": {},
   "outputs": [
    {
     "name": "stdout",
     "output_type": "stream",
     "text": [
      "19\n",
      "17\n",
      "15\n",
      "13\n",
      "11\n",
      "9\n",
      "7\n",
      "5\n",
      "3\n",
      "1\n"
     ]
    }
   ],
   "source": [
    "for i in reversed(range(1,20,2)):\n",
    "    print(i)"
   ]
  },
  {
   "cell_type": "markdown",
   "id": "76577138-3638-428c-9fc9-7eaecd5cb405",
   "metadata": {},
   "source": [
    "##### 顺序遍历 使用 **sorted函数**"
   ]
  },
  {
   "cell_type": "code",
   "execution_count": 108,
   "id": "3f97bc86-26a7-4d34-90e1-583da4e10128",
   "metadata": {},
   "outputs": [
    {
     "name": "stdout",
     "output_type": "stream",
     "text": [
      "apple\n",
      "banana\n",
      "orange\n",
      "pear\n"
     ]
    }
   ],
   "source": [
    "basket = ['apple', 'orange', 'apple', 'pear', 'orange', 'banana']\n",
    "for f in sorted(set(basket)):\n",
    "    print(f)"
   ]
  },
  {
   "cell_type": "code",
   "execution_count": null,
   "id": "fd97892e-c498-4438-b3ae-115b7d70675d",
   "metadata": {},
   "outputs": [],
   "source": []
  }
 ],
 "metadata": {
  "kernelspec": {
   "display_name": "Python 3 (ipykernel)",
   "language": "python",
   "name": "python3"
  },
  "language_info": {
   "codemirror_mode": {
    "name": "ipython",
    "version": 3
   },
   "file_extension": ".py",
   "mimetype": "text/x-python",
   "name": "python",
   "nbconvert_exporter": "python",
   "pygments_lexer": "ipython3",
   "version": "3.8.5"
  }
 },
 "nbformat": 4,
 "nbformat_minor": 5
}
